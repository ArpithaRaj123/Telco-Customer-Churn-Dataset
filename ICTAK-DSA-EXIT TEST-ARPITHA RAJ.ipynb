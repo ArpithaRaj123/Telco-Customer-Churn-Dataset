{
 "cells": [
  {
   "cell_type": "markdown",
   "id": "6b1388c8",
   "metadata": {},
   "source": [
    "# <font color=\"#351963\" size=24px>ICT - DSA - EXIT TEST - ARPITHA RAJ </font>"
   ]
  },
  {
   "cell_type": "markdown",
   "id": "0e2df80b",
   "metadata": {},
   "source": [
    "# DATASET:\n",
    "# AIM:"
   ]
  },
  {
   "cell_type": "code",
   "execution_count": null,
   "id": "e24cba96",
   "metadata": {},
   "outputs": [],
   "source": [
    "#IMPORTING PICTURE\n",
    "from IPython import display\n",
    "display.Image(\"\")"
   ]
  },
  {
   "cell_type": "code",
   "execution_count": null,
   "id": "fdc286d6",
   "metadata": {},
   "outputs": [],
   "source": [
    "#IMPORTING LIBRARIES\n",
    "import numpy as np\n",
    "import pandas as pd \n",
    "import matplotlib.pyplot as plt\n",
    "import seaborn as sns\n",
    "import warnings\n",
    "warnings.filterwarnings('ignore')"
   ]
  },
  {
   "cell_type": "markdown",
   "id": "131001ff",
   "metadata": {},
   "source": [
    "# <font color=\"#ff2655\">READING TEST AND TRAIN DATA </font>"
   ]
  },
  {
   "cell_type": "markdown",
   "id": "24f54ebd",
   "metadata": {},
   "source": [
    "TRAIN DATA"
   ]
  },
  {
   "cell_type": "code",
   "execution_count": null,
   "id": "5bd32662",
   "metadata": {},
   "outputs": [],
   "source": [
    "train_df = pd.read_csv('train_file.csv')"
   ]
  },
  {
   "cell_type": "code",
   "execution_count": null,
   "id": "8ce8d03b",
   "metadata": {},
   "outputs": [],
   "source": [
    "#Displaying first five first values of train data using head()\n",
    "train_df.head()"
   ]
  },
  {
   "cell_type": "code",
   "execution_count": null,
   "id": "78addb4d",
   "metadata": {},
   "outputs": [],
   "source": [
    "#Displaying first values of train data from bottom using head()\n",
    "train_df.tail()"
   ]
  },
  {
   "cell_type": "code",
   "execution_count": null,
   "id": "adf3c401",
   "metadata": {},
   "outputs": [],
   "source": [
    "#Finding the shape of the train data(number of rows and columns) using shape.\n",
    "train_df.shape"
   ]
  },
  {
   "cell_type": "code",
   "execution_count": null,
   "id": "fc83600c",
   "metadata": {},
   "outputs": [],
   "source": [
    "#Finding the column names of our train data\n",
    "train_df.columns"
   ]
  },
  {
   "cell_type": "code",
   "execution_count": null,
   "id": "ff73ee73",
   "metadata": {},
   "outputs": [],
   "source": [
    "#Finding the datatypes of features in our train data\n",
    "train_df.dtypes"
   ]
  },
  {
   "cell_type": "code",
   "execution_count": null,
   "id": "bfb7d87e",
   "metadata": {},
   "outputs": [],
   "source": [
    "#Finding the summery for our train data using info()\n",
    "train_df.info()"
   ]
  },
  {
   "cell_type": "code",
   "execution_count": null,
   "id": "cfa8c91b",
   "metadata": {},
   "outputs": [],
   "source": [
    "#Finding statistical values for our train data\n",
    "train_df.describe()"
   ]
  },
  {
   "cell_type": "markdown",
   "id": "dc1a9ae3",
   "metadata": {},
   "source": [
    "TRAIN DATA"
   ]
  },
  {
   "cell_type": "code",
   "execution_count": null,
   "id": "b32c6844",
   "metadata": {},
   "outputs": [],
   "source": [
    "test_df = pd.read_csv('test_file.csv')"
   ]
  },
  {
   "cell_type": "code",
   "execution_count": null,
   "id": "6571c7bf",
   "metadata": {},
   "outputs": [],
   "source": [
    "#Displaying first five first values of test data using head()\n",
    "test_df.head()"
   ]
  },
  {
   "cell_type": "code",
   "execution_count": null,
   "id": "68f87942",
   "metadata": {},
   "outputs": [],
   "source": [
    "#Displaying first values of test data from bottom using head()\n",
    "test_df.tail()"
   ]
  },
  {
   "cell_type": "code",
   "execution_count": null,
   "id": "12da0d72",
   "metadata": {},
   "outputs": [],
   "source": [
    "#Finding the shape of the test data(number of rows and columns) using shape.\n",
    "test_df.shape"
   ]
  },
  {
   "cell_type": "code",
   "execution_count": null,
   "id": "c618968c",
   "metadata": {},
   "outputs": [],
   "source": [
    "#Finding the column names of our test data\n",
    "test_df.columns"
   ]
  },
  {
   "cell_type": "code",
   "execution_count": null,
   "id": "13a10dec",
   "metadata": {},
   "outputs": [],
   "source": [
    "#Finding the datatypes of features in our test data\n",
    "test_df.dtypes"
   ]
  },
  {
   "cell_type": "code",
   "execution_count": null,
   "id": "5e3ed3ac",
   "metadata": {},
   "outputs": [],
   "source": [
    "#Finding the summery for our test data using info()\n",
    "test.info()"
   ]
  },
  {
   "cell_type": "code",
   "execution_count": null,
   "id": "0f8eb486",
   "metadata": {},
   "outputs": [],
   "source": [
    "#Finding statistical values for our test data\n",
    "test_df.describe()"
   ]
  },
  {
   "cell_type": "markdown",
   "id": "71ce76ea",
   "metadata": {},
   "source": [
    "#  <font color=\"#ff2655\">EXPLORATORY DATA ANALYSIS </font>"
   ]
  },
  {
   "cell_type": "code",
   "execution_count": null,
   "id": "0ae02554",
   "metadata": {},
   "outputs": [],
   "source": [
    "numerical_variables=[features for features in data.columns if data[features].dtypes!='O']\n",
    "numerical_variables.remove('FinalMandates') #FinalMandates is our target column\n",
    "numerical_variables"
   ]
  },
  {
   "cell_type": "markdown",
   "id": "c5f7e201",
   "metadata": {},
   "source": [
    "## 1.Univariate analysis"
   ]
  },
  {
   "cell_type": "markdown",
   "id": "e32027f0",
   "metadata": {},
   "source": [
    "### 1.1 COUNTPLOT"
   ]
  },
  {
   "cell_type": "code",
   "execution_count": null,
   "id": "df1e799c",
   "metadata": {},
   "outputs": [],
   "source": [
    "plt.figure(figsize=(8,5))\n",
    "sns.countplot(x=\"Gender\",data = dftrain)\n",
    "plt.show()"
   ]
  },
  {
   "cell_type": "code",
   "execution_count": null,
   "id": "888b93fe",
   "metadata": {},
   "outputs": [],
   "source": [
    "plt.figure(figsize=(25,5))\n",
    "sns.countplot(x=\"City\",data = dftrain)\n",
    "plt.show()"
   ]
  },
  {
   "cell_type": "code",
   "execution_count": null,
   "id": "effe0050",
   "metadata": {},
   "outputs": [],
   "source": [
    "plt.figure(figsize=(25,5))\n",
    "sns.countplot(x=\"is_Married\",data = dftrain)\n",
    "plt.show()"
   ]
  },
  {
   "cell_type": "code",
   "execution_count": null,
   "id": "0effc470",
   "metadata": {},
   "outputs": [],
   "source": [
    "plt.figure(figsize=(25,5))\n",
    "sns.countplot(x=\"family_size\",data = dftrain)\n",
    "plt.show()"
   ]
  },
  {
   "cell_type": "markdown",
   "id": "04abfbd5",
   "metadata": {},
   "source": [
    "## 2.Bivariate Analysis¶"
   ]
  },
  {
   "cell_type": "markdown",
   "id": "f84933e6",
   "metadata": {},
   "source": [
    "### 2.1 PAIRPLOT"
   ]
  },
  {
   "cell_type": "code",
   "execution_count": null,
   "id": "78d2af15",
   "metadata": {},
   "outputs": [],
   "source": [
    "sns.pairplot(train_df,size = 2 ,kind ='scatter',diag_kind='kde', hue = 'vehicle_choice')"
   ]
  },
  {
   "cell_type": "markdown",
   "id": "e9ce869f",
   "metadata": {},
   "source": [
    "### 2.2 HEATMAP"
   ]
  },
  {
   "cell_type": "code",
   "execution_count": null,
   "id": "86327272",
   "metadata": {},
   "outputs": [],
   "source": [
    "#get correlations of numerical features in dataset\n",
    "plt.figure(figsize=(18,10))\n",
    "#plot heat map\n",
    "sns.heatmap(data.corr(),cmap='coolwarm',annot=True)"
   ]
  },
  {
   "cell_type": "markdown",
   "id": "37506c33",
   "metadata": {},
   "source": [
    "# <font color=\"#ff2655\">DATA PREPROCESSING</font>"
   ]
  },
  {
   "cell_type": "markdown",
   "id": "e4722574",
   "metadata": {},
   "source": [
    "# MISSING VALUES"
   ]
  },
  {
   "cell_type": "markdown",
   "id": "58059d55",
   "metadata": {},
   "source": [
    "### <font color=\"#42b36d\" >TRAIN DATA</font>"
   ]
  },
  {
   "cell_type": "code",
   "execution_count": null,
   "id": "b489f08c",
   "metadata": {},
   "outputs": [],
   "source": [
    "#First lets check if there any missing values in our train data using isna().sum()\n",
    "train_df.isna().sum()"
   ]
  },
  {
   "cell_type": "code",
   "execution_count": null,
   "id": "2fbaf94e",
   "metadata": {},
   "outputs": [],
   "source": [
    "train_df.dtypes #Checking the dtype"
   ]
  },
  {
   "cell_type": "code",
   "execution_count": null,
   "id": "b78594e1",
   "metadata": {},
   "outputs": [],
   "source": [
    "train_df = train_df.fillna(train_df.mode().iloc[0])"
   ]
  },
  {
   "cell_type": "code",
   "execution_count": null,
   "id": "b00ccce2",
   "metadata": {},
   "outputs": [],
   "source": [
    "col_numeric = dftrain.select_dtypes(include=(['int64', 'float64'])).columns\n",
    "for col in col_numeric:\n",
    "    dftrain[col].fillna(dftrain[col].median(), inplace=True)\n",
    "\n",
    "col_obj = dftrain.select_dtypes(include=(['object'])).columns\n",
    "for col in col_obj:\n",
    "    dftrain[col].fillna(dftrain[col].mode().values[0], inplace=True)\n",
    "\n",
    "dftrain.isna().sum()"
   ]
  },
  {
   "cell_type": "code",
   "execution_count": null,
   "id": "6b9ce5ab",
   "metadata": {},
   "outputs": [],
   "source": [
    "train_df.isna().sum() #Checking again presence of null values in train data"
   ]
  },
  {
   "cell_type": "markdown",
   "id": "376b1dbb",
   "metadata": {},
   "source": [
    "### <font color=\"#42b36d\" >TEST DATA</font>"
   ]
  },
  {
   "cell_type": "code",
   "execution_count": null,
   "id": "162fdbb8",
   "metadata": {},
   "outputs": [],
   "source": [
    "#Plotting distplot for pre.votersPercentage"
   ]
  },
  {
   "cell_type": "code",
   "execution_count": null,
   "id": "89233a98",
   "metadata": {},
   "outputs": [],
   "source": [
    "sns.distplot(data['pre.votersPercentage'])\n",
    "print('skewness value of pre.votersPercentage: ',data['pre.votersPercentage'].skew())"
   ]
  },
  {
   "cell_type": "markdown",
   "id": "c08cc0f6",
   "metadata": {},
   "source": [
    "# <font color=\"#ff2655\">FEATURE REDUCTION</font>"
   ]
  },
  {
   "cell_type": "code",
   "execution_count": null,
   "id": "685a9350",
   "metadata": {},
   "outputs": [],
   "source": []
  },
  {
   "cell_type": "markdown",
   "id": "5b89ae7f",
   "metadata": {},
   "source": [
    "# <font color=\"#ff2655\">ENCODING</font>"
   ]
  },
  {
   "cell_type": "markdown",
   "id": "fd5b1d22",
   "metadata": {},
   "source": [
    "### <font color=\"#42b36d\" >TRAIN DATA</font>"
   ]
  },
  {
   "cell_type": "code",
   "execution_count": null,
   "id": "70f9e113",
   "metadata": {},
   "outputs": [],
   "source": [
    "#Finding categorical variables\n",
    "obj_col =[]\n",
    "for i in train_df.columns:\n",
    "    if train_df[i].dtypes==\"O\":\n",
    "        obj_col.append(i)\n",
    "obj_col"
   ]
  },
  {
   "cell_type": "code",
   "execution_count": null,
   "id": "516db635",
   "metadata": {},
   "outputs": [],
   "source": [
    "#Unique values in target col\n",
    "print(train_df['UsageClass'].unique())"
   ]
  },
  {
   "cell_type": "code",
   "execution_count": null,
   "id": "56e0884d",
   "metadata": {},
   "outputs": [],
   "source": [
    "#one hot encoding\n",
    "train_df1=pd.get_dummies(train_df[['UsageClass','CheckoutType']])\n",
    "\n",
    "#concat data frames data and data1\n",
    "train_df=pd.concat([train_df,train_df1], axis=1)\n",
    "train_df=train_df.drop(['UsageClass','CheckoutType'],axis=1)"
   ]
  },
  {
   "cell_type": "code",
   "execution_count": null,
   "id": "5dc09dc1",
   "metadata": {},
   "outputs": [],
   "source": [
    "#label encoding\n",
    "from sklearn.preprocessing import LabelEncoder\n",
    "label_en=LabelEncoder()\n",
    "for i in train_df[['Creator','Subjects','Publisher','PublicationYear','Title']]:\n",
    "    train_df[i]=label_en.fit_transform(train_df[i])"
   ]
  },
  {
   "cell_type": "code",
   "execution_count": null,
   "id": "35944e56",
   "metadata": {},
   "outputs": [],
   "source": [
    "train_df.head()"
   ]
  },
  {
   "cell_type": "markdown",
   "id": "e0bc8fa0",
   "metadata": {},
   "source": [
    "### <font color=\"#42b36d\" >TEST DATA</font>"
   ]
  },
  {
   "cell_type": "code",
   "execution_count": null,
   "id": "3dbcded2",
   "metadata": {},
   "outputs": [],
   "source": []
  },
  {
   "cell_type": "markdown",
   "id": "43754ccd",
   "metadata": {},
   "source": [
    "# <font color=\"#ff2655\">OUTLIER DETECTION</font>"
   ]
  },
  {
   "cell_type": "markdown",
   "id": "0edac320",
   "metadata": {},
   "source": [
    "### <font color=\"#42b36d\" >TRAIN DATA</font>"
   ]
  },
  {
   "cell_type": "code",
   "execution_count": null,
   "id": "c5b50880",
   "metadata": {},
   "outputs": [],
   "source": [
    "#Now we will check for outliers in train data using boxplot\n",
    "data.plot(kind=\"box\",subplots=True,layout=(6,5),figsize=(15,15))\n",
    "plt.show()"
   ]
  },
  {
   "cell_type": "code",
   "execution_count": null,
   "id": "c31d49dd",
   "metadata": {},
   "outputs": [],
   "source": [
    "#Handling Outlier - Train\n",
    "Q1 = train_df[cols].quantile(0.25)\n",
    "Q3 = train_df[cols].quantile(0.75)\n",
    "IQR = Q3 - Q1\n",
    "whisker_width = 1.5\n",
    "lower_whisker = Q1 -(whisker_width*IQR)\n",
    "upper_whisker = Q3 + (whisker_width*IQR)\n",
    "train_df[cols]=np.where(train_df[cols]>upper_whisker,upper_whisker,np.where(train_df[cols]<lower_whisker,lower_whisker,train_df[cols]))\n"
   ]
  },
  {
   "cell_type": "code",
   "execution_count": null,
   "id": "a6f9160f",
   "metadata": {},
   "outputs": [],
   "source": [
    "train_df.plot(kind=\"box\",subplots=True,layout=(6,5),figsize=(15,15))\n",
    "plt.show()"
   ]
  },
  {
   "cell_type": "markdown",
   "id": "d1fd6d1c",
   "metadata": {},
   "source": [
    "### <font color=\"#42b36d\" >TEST DATA</font>"
   ]
  },
  {
   "cell_type": "code",
   "execution_count": null,
   "id": "d8969ce6",
   "metadata": {},
   "outputs": [],
   "source": []
  },
  {
   "cell_type": "markdown",
   "id": "b846d10a",
   "metadata": {},
   "source": [
    "# <font color=\"#ff2655\">MODELING</font>"
   ]
  },
  {
   "cell_type": "code",
   "execution_count": null,
   "id": "c357ce33",
   "metadata": {},
   "outputs": [],
   "source": [
    "train_df.head()"
   ]
  },
  {
   "cell_type": "code",
   "execution_count": null,
   "id": "ffe9b8ff",
   "metadata": {},
   "outputs": [],
   "source": [
    "xtrain = train_df.drop(['ID','MaterialType'],axis=1)\n",
    "ytrain = train_df['MaterialType']"
   ]
  },
  {
   "cell_type": "code",
   "execution_count": null,
   "id": "90f94e18",
   "metadata": {},
   "outputs": [],
   "source": [
    "xtrain.head()"
   ]
  },
  {
   "cell_type": "code",
   "execution_count": null,
   "id": "8db7d38d",
   "metadata": {},
   "outputs": [],
   "source": [
    "test_df.head()"
   ]
  },
  {
   "cell_type": "code",
   "execution_count": null,
   "id": "388d07d3",
   "metadata": {},
   "outputs": [],
   "source": [
    "xtest = test_df.drop('ID',axis=1)"
   ]
  },
  {
   "cell_type": "markdown",
   "id": "c4894d0d",
   "metadata": {},
   "source": [
    "### 1-Logistic Regression"
   ]
  },
  {
   "cell_type": "code",
   "execution_count": null,
   "id": "e96a1830",
   "metadata": {},
   "outputs": [],
   "source": [
    "from sklearn.linear_model import LogisticRegression\n",
    "logit_model = LogisticRegression()\n",
    "logit_model = logit_model.fit(x_train, y_train)\n",
    "y_predict = logit_model.predict(x_test)"
   ]
  },
  {
   "cell_type": "code",
   "execution_count": null,
   "id": "1dc2b8ef",
   "metadata": {},
   "outputs": [],
   "source": [
    "#check the performance of the model\n",
    "print('Accuracy is :', accuracy_score(y_test,y_predict))\n",
    "print('Precision is :', precision_score(y_test,y_predict))\n",
    "print('Recall is :', recall_score(y_test,y_predict))\n",
    "print('f1 Score is :', f1_score(y_test,y_predict))"
   ]
  },
  {
   "cell_type": "code",
   "execution_count": null,
   "id": "3f842c95",
   "metadata": {},
   "outputs": [],
   "source": []
  },
  {
   "cell_type": "markdown",
   "id": "5d0cb2bc",
   "metadata": {},
   "source": [
    "### 2)-Desicion Tree Classifier"
   ]
  },
  {
   "cell_type": "code",
   "execution_count": null,
   "id": "b3a16d56",
   "metadata": {},
   "outputs": [],
   "source": [
    "#import library\n",
    "from sklearn.tree import DecisionTreeClassifier\n",
    "#create an instance of the model\n",
    "dt_model = DecisionTreeClassifier()\n",
    "dt_model.fit(x_train, y_train)\n",
    "y_predict = dt_model.predict(x_test)"
   ]
  },
  {
   "cell_type": "markdown",
   "id": "8d860141",
   "metadata": {},
   "source": [
    "### 3)-Random Forest Classifier"
   ]
  },
  {
   "cell_type": "code",
   "execution_count": null,
   "id": "1a75ff91",
   "metadata": {},
   "outputs": [],
   "source": [
    "from sklearn.ensemble import RandomForestClassifier\n",
    "rf = RandomForestClassifier()\n",
    "rf.fit(xtrain,ytrain)\n",
    "ypredrf = rf.predict(xtest)"
   ]
  },
  {
   "cell_type": "code",
   "execution_count": null,
   "id": "c16a3a6d",
   "metadata": {},
   "outputs": [],
   "source": [
    "#check the performance of the model\n",
    "#check the performance of the model\n",
    "from sklearn.metrics import confusion_matrix, accuracy_score, precision_score, recall_score, f1_score\n",
    "\n",
    "print('Accuracy is :',accuracy_score(ytrain, rf.predict(xtrain)))\n"
   ]
  },
  {
   "cell_type": "markdown",
   "id": "e57adf19",
   "metadata": {},
   "source": [
    "### 4)-Gradient Boosting Classifier"
   ]
  },
  {
   "cell_type": "code",
   "execution_count": null,
   "id": "a86b5c09",
   "metadata": {},
   "outputs": [],
   "source": [
    "from sklearn.ensemble import GradientBoostingClassifier\n",
    "\n",
    "gb = GradientBoostingClassifier()\n",
    "gb.fit(xtrain,ytrain)\n",
    "\n",
    "ypredgb =gb.predict(xtest)"
   ]
  },
  {
   "cell_type": "code",
   "execution_count": null,
   "id": "f5a9cd38",
   "metadata": {},
   "outputs": [],
   "source": [
    "round(accuracy_score(ytrain, gb.predict(xtrain))*100,2)"
   ]
  },
  {
   "cell_type": "code",
   "execution_count": null,
   "id": "8860b47d",
   "metadata": {},
   "outputs": [],
   "source": [
    "#Selecting pred of best model\n",
    "type(ypredrf)"
   ]
  },
  {
   "cell_type": "code",
   "execution_count": null,
   "id": "04999c03",
   "metadata": {},
   "outputs": [],
   "source": [
    "submission = pd.DataFrame({\n",
    "'CustomerID':dftest.CustomerID,\n",
    "'vehicle_choice':ypredrf\n",
    "},columns=['CustomerID','vehicle_choice'])"
   ]
  },
  {
   "cell_type": "code",
   "execution_count": null,
   "id": "d18b8fa5",
   "metadata": {},
   "outputs": [],
   "source": [
    "submission.head()"
   ]
  },
  {
   "cell_type": "code",
   "execution_count": null,
   "id": "8bb9c9e6",
   "metadata": {},
   "outputs": [],
   "source": [
    "submission.shape"
   ]
  },
  {
   "cell_type": "code",
   "execution_count": null,
   "id": "f32413a4",
   "metadata": {},
   "outputs": [],
   "source": [
    "submission.to_csv('submission.csv',index=False)"
   ]
  }
 ],
 "metadata": {
  "kernelspec": {
   "display_name": "Python 3 (ipykernel)",
   "language": "python",
   "name": "python3"
  },
  "language_info": {
   "codemirror_mode": {
    "name": "ipython",
    "version": 3
   },
   "file_extension": ".py",
   "mimetype": "text/x-python",
   "name": "python",
   "nbconvert_exporter": "python",
   "pygments_lexer": "ipython3",
   "version": "3.9.7"
  }
 },
 "nbformat": 4,
 "nbformat_minor": 5
}
